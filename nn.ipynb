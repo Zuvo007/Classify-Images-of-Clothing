{
 "cells": [
  {
   "cell_type": "markdown",
   "metadata": {},
   "source": [
    "# FASHION CLOTHES AND SHOES RECOGNITION"
   ]
  },
  {
   "cell_type": "code",
   "execution_count": 65,
   "metadata": {},
   "outputs": [],
   "source": [
    "#importing tensorflow flow and calling the API keras \n",
    "#keras is used for the computer vision\n",
    "import tensorflow as tf\n",
    "from tensorflow import keras\n",
    "import numpy as np"
   ]
  },
  {
   "cell_type": "code",
   "execution_count": 6,
   "metadata": {},
   "outputs": [
    {
     "data": {
      "text/plain": [
       "<module 'tensorflow_core.keras.datasets.fashion_mnist' from 'c:\\\\users\\\\dell\\\\appdata\\\\local\\\\programs\\\\python\\\\python37\\\\lib\\\\site-packages\\\\tensorflow_core\\\\python\\\\keras\\\\api\\\\_v2\\\\keras\\\\datasets\\\\fashion_mnist\\\\__init__.py'>"
      ]
     },
     "execution_count": 6,
     "metadata": {},
     "output_type": "execute_result"
    }
   ],
   "source": [
    "#loading the dataset using keras API\n",
    "fashion_mnist=tf.keras.datasets.fashion_mnist\n",
    "fashion_mnist"
   ]
  },
  {
   "cell_type": "code",
   "execution_count": 11,
   "metadata": {},
   "outputs": [],
   "source": [
    "(X_train,X_label),(y_train,y_label)=fashion_mnist.load_data()"
   ]
  },
  {
   "cell_type": "code",
   "execution_count": 13,
   "metadata": {},
   "outputs": [],
   "source": [
    "import matplotlib.pyplot as plt"
   ]
  },
  {
   "cell_type": "code",
   "execution_count": 40,
   "metadata": {},
   "outputs": [
    {
     "name": "stdout",
     "output_type": "stream",
     "text": [
      "[[0.         0.         0.         0.         0.         0.\n",
      "  0.         0.         0.         0.         0.         0.\n",
      "  0.         0.         0.         0.         0.         0.\n",
      "  0.         0.         0.         0.         0.         0.\n",
      "  0.         0.         0.         0.        ]\n",
      " [0.         0.         0.         0.         0.         0.\n",
      "  0.         0.         0.         0.         0.         0.\n",
      "  0.         0.         0.         0.         0.         0.\n",
      "  0.         0.         0.         0.         0.         0.\n",
      "  0.         0.         0.         0.        ]\n",
      " [0.         0.         0.         0.         0.         0.\n",
      "  0.         0.         0.         0.         0.         0.\n",
      "  0.         0.         0.         0.         0.         0.\n",
      "  0.         0.         0.         0.         0.         0.\n",
      "  0.         0.         0.         0.        ]\n",
      " [0.         0.         0.         0.         0.         0.\n",
      "  0.         0.         0.         0.         0.         0.\n",
      "  0.         0.         0.         0.         0.         0.\n",
      "  0.         0.         0.         0.         0.         0.\n",
      "  0.         0.         0.         0.        ]\n",
      " [0.         0.         0.         0.         0.         0.\n",
      "  0.         0.         0.         0.         0.         0.\n",
      "  0.         0.         0.         0.         0.         0.\n",
      "  0.         0.         0.         0.         0.         0.\n",
      "  0.         0.         0.         0.        ]\n",
      " [0.         0.         0.         0.         0.         0.\n",
      "  0.         0.         0.         0.         0.         0.\n",
      "  0.         0.         0.         0.         0.         0.\n",
      "  0.         0.         0.         0.         0.         0.\n",
      "  0.         0.         0.         0.        ]\n",
      " [0.         0.         0.         0.         0.         0.\n",
      "  0.         0.         0.         0.         0.         0.\n",
      "  0.         0.         0.         0.         0.         0.\n",
      "  0.         0.         0.         0.         0.         0.\n",
      "  0.         0.         0.         0.        ]\n",
      " [0.         0.         0.         0.         0.         0.\n",
      "  0.         0.         0.         0.         0.         0.\n",
      "  0.         0.         0.         0.         0.         0.\n",
      "  0.         0.         0.         0.         0.         0.\n",
      "  0.         0.         0.         0.        ]\n",
      " [0.         0.         0.         0.         0.         0.\n",
      "  0.         0.         0.         0.         0.         0.\n",
      "  0.         0.         0.         0.         0.         0.\n",
      "  0.         0.         0.         0.         0.         0.\n",
      "  0.         0.         0.         0.        ]\n",
      " [0.         0.         0.         0.         0.         0.\n",
      "  0.         0.         0.         0.         0.         0.\n",
      "  0.         0.50980392 0.10588235 0.         0.         0.\n",
      "  0.         0.00392157 0.         0.         0.01960784 0.\n",
      "  0.         0.         0.         0.        ]\n",
      " [0.         0.         0.         0.         0.         0.\n",
      "  0.         0.         0.         0.         0.07843137 0.89411765\n",
      "  0.54901961 0.71372549 0.58823529 0.36470588 0.3372549  0.01960784\n",
      "  0.         0.         0.         0.         0.         0.\n",
      "  0.         0.10196078 0.35294118 0.        ]\n",
      " [0.         0.         0.00392157 0.00392157 0.         0.\n",
      "  0.         0.         0.03137255 0.97647059 0.58431373 0.39215686\n",
      "  0.42745098 0.16078431 0.49411765 0.41176471 0.50196078 0.5372549\n",
      "  0.22745098 0.         0.         0.12156863 0.29803922 0.54901961\n",
      "  0.67058824 0.62352941 0.58823529 0.0745098 ]\n",
      " [0.00392157 0.         0.         0.         0.         0.\n",
      "  0.         0.01176471 0.3372549  0.4        0.27058824 0.00392157\n",
      "  0.50980392 0.35294118 0.35294118 1.         0.66666667 0.76078431\n",
      "  0.62352941 0.73333333 0.71764706 0.66666667 0.58823529 0.63137255\n",
      "  0.58431373 0.63921569 0.52156863 0.18039216]\n",
      " [0.         0.         0.00392157 0.05882353 0.14901961 0.33333333\n",
      "  0.35294118 0.36470588 0.3372549  0.39215686 0.58431373 0.54117647\n",
      "  0.56078431 0.70588235 0.36470588 0.19607843 0.36470588 0.59607843\n",
      "  0.69803922 0.38431373 0.62352941 0.35294118 0.35294118 0.3254902\n",
      "  0.3372549  0.51372549 0.21568627 0.22352941]\n",
      " [0.10588235 0.36470588 0.27843137 0.30588235 0.17647059 0.4\n",
      "  0.14117647 0.18823529 0.25490196 0.30588235 0.40784314 0.59607843\n",
      "  0.74117647 0.52941176 0.68627451 0.39215686 0.07843137 0.04705882\n",
      "  0.16862745 0.27843137 0.3254902  0.40784314 0.38039216 0.52941176\n",
      "  0.37254902 0.27058824 0.87058824 0.45882353]\n",
      " [0.03137255 0.1254902  0.18823529 0.25098039 0.2627451  0.28235294\n",
      "  0.19607843 0.29803922 0.30980392 0.56078431 0.49411765 0.45490196\n",
      "  0.25490196 0.4745098  0.59607843 0.95686275 0.49411765 0.29019608\n",
      "  0.58431373 0.58823529 0.63137255 0.54117647 0.29019608 0.44705882\n",
      "  0.52156863 0.46666667 0.63137255 0.30588235]\n",
      " [0.08627451 0.02352941 0.         0.00392157 0.03921569 0.10588235\n",
      "  0.19607843 0.22745098 0.20784314 0.28235294 0.14117647 0.27843137\n",
      "  0.30588235 0.4745098  0.35686275 0.38039216 0.4745098  0.48627451\n",
      "  0.49411765 0.38039216 0.38431373 0.45490196 0.3254902  0.38039216\n",
      "  0.4        0.34509804 0.29803922 0.23529412]\n",
      " [0.13333333 0.18039216 0.16862745 0.15294118 0.1254902  0.0745098\n",
      "  0.01960784 0.01960784 0.04705882 0.06666667 0.07843137 0.0745098\n",
      "  0.05882353 0.01960784 0.07843137 0.10588235 0.07843137 0.04705882\n",
      "  0.03137255 0.04705882 0.03137255 0.03921569 0.06666667 0.05882353\n",
      "  0.05098039 0.02352941 0.02352941 0.22352941]\n",
      " [0.         0.00392157 0.0745098  0.14117647 0.14901961 0.18039216\n",
      "  0.20392157 0.20392157 0.17647059 0.16862745 0.16078431 0.16078431\n",
      "  0.15294118 0.13333333 0.1254902  0.1254902  0.14117647 0.15294118\n",
      "  0.15294118 0.13333333 0.14117647 0.15294118 0.15294118 0.16078431\n",
      "  0.16862745 0.14901961 0.19607843 0.4       ]\n",
      " [0.         0.         0.         0.         0.         0.01176471\n",
      "  0.05882353 0.09411765 0.11372549 0.12156863 0.11372549 0.10196078\n",
      "  0.09411765 0.10196078 0.10196078 0.09411765 0.09411765 0.11372549\n",
      "  0.13333333 0.12156863 0.12156863 0.1254902  0.14901961 0.14117647\n",
      "  0.11372549 0.10196078 0.09411765 0.        ]\n",
      " [0.         0.         0.         0.         0.         0.\n",
      "  0.         0.         0.         0.         0.         0.\n",
      "  0.         0.         0.         0.         0.         0.\n",
      "  0.         0.         0.         0.         0.         0.\n",
      "  0.         0.         0.         0.        ]\n",
      " [0.         0.         0.         0.         0.         0.\n",
      "  0.         0.         0.         0.         0.         0.\n",
      "  0.         0.         0.         0.         0.         0.\n",
      "  0.         0.         0.         0.         0.         0.\n",
      "  0.         0.         0.         0.        ]\n",
      " [0.         0.         0.         0.         0.         0.\n",
      "  0.         0.         0.         0.         0.         0.\n",
      "  0.         0.         0.         0.         0.         0.\n",
      "  0.         0.         0.         0.         0.         0.\n",
      "  0.         0.         0.         0.        ]\n",
      " [0.         0.         0.         0.         0.         0.\n",
      "  0.         0.         0.         0.         0.         0.\n",
      "  0.         0.         0.         0.         0.         0.\n",
      "  0.         0.         0.         0.         0.         0.\n",
      "  0.         0.         0.         0.        ]\n",
      " [0.         0.         0.         0.         0.         0.\n",
      "  0.         0.         0.         0.         0.         0.\n",
      "  0.         0.         0.         0.         0.         0.\n",
      "  0.         0.         0.         0.         0.         0.\n",
      "  0.         0.         0.         0.        ]\n",
      " [0.         0.         0.         0.         0.         0.\n",
      "  0.         0.         0.         0.         0.         0.\n",
      "  0.         0.         0.         0.         0.         0.\n",
      "  0.         0.         0.         0.         0.         0.\n",
      "  0.         0.         0.         0.        ]\n",
      " [0.         0.         0.         0.         0.         0.\n",
      "  0.         0.         0.         0.         0.         0.\n",
      "  0.         0.         0.         0.         0.         0.\n",
      "  0.         0.         0.         0.         0.         0.\n",
      "  0.         0.         0.         0.        ]\n",
      " [0.         0.         0.         0.         0.         0.\n",
      "  0.         0.         0.         0.         0.         0.\n",
      "  0.         0.         0.         0.         0.         0.\n",
      "  0.         0.         0.         0.         0.         0.\n",
      "  0.         0.         0.         0.        ]]\n"
     ]
    },
    {
     "data": {
      "image/png": "[encoded data removed]",
      "text/plain": [
       "<Figure size 432x288 with 1 Axes>"
      ]
     },
     "metadata": {
      "needs_background": "light"
     },
     "output_type": "display_data"
    }
   ],
   "source": [
    "plt.imshow(X_train[145])\n",
    "print(X_train[145])\n"
   ]
  },
  {
   "cell_type": "code",
   "execution_count": 39,
   "metadata": {},
   "outputs": [
    {
     "name": "stdout",
     "output_type": "stream",
     "text": [
      "7\n"
     ]
    }
   ],
   "source": [
    "print(X_label[145])"
   ]
  },
  {
   "cell_type": "code",
   "execution_count": 23,
   "metadata": {},
   "outputs": [],
   "source": [
    "X_train=X_train/255.0\n",
    "y_train=y_train/255.0"
   ]
  },
  {
   "cell_type": "code",
   "execution_count": 45,
   "metadata": {},
   "outputs": [],
   "source": [
    "model=tf.keras.models.Sequential([keras.layers.Flatten(input_shape=(28,28)),\n",
    "                                  keras.layers.Dense(units=512,activation=tf.nn.relu),\n",
    "                                  keras.layers.Dense(10,activation=tf.nn.softmax)])"
   ]
  },
  {
   "cell_type": "code",
   "execution_count": 46,
   "metadata": {},
   "outputs": [],
   "source": [
    "model.compile(optimizer=tf.optimizers.Adam(),loss=\"sparse_categorical_crossentropy\")"
   ]
  },
  {
   "cell_type": "code",
   "execution_count": 54,
   "metadata": {},
   "outputs": [],
   "source": [
    "# createing a class to use callback\n",
    "class Callback(tf.keras.callbacks.Callback):\n",
    "    def on_epoch_end(self,epoch,logs={}):\n",
    "        if logs.get('loss')<4:\n",
    "            print(\"\\n stop traing due to low loss\")\n",
    "            self.model_stop_training=True  "
   ]
  },
  {
   "cell_type": "code",
   "execution_count": 55,
   "metadata": {},
   "outputs": [],
   "source": [
    "callbacks=Callback()"
   ]
  },
  {
   "cell_type": "code",
   "execution_count": 56,
   "metadata": {},
   "outputs": [
    {
     "name": "stdout",
     "output_type": "stream",
     "text": [
      "Train on 60000 samples\n",
      "Epoch 1/5\n",
      "59968/60000 [============================>.] - ETA: 0s - loss: 0.2406\n",
      " stop traing due to low loss\n",
      "60000/60000 [==============================] - 8s 126us/sample - loss: 0.2405\n",
      "Epoch 2/5\n",
      "59712/60000 [============================>.] - ETA: 0s - loss: 0.2322\n",
      " stop traing due to low loss\n",
      "60000/60000 [==============================] - 7s 119us/sample - loss: 0.2324\n",
      "Epoch 3/5\n",
      "59680/60000 [============================>.] - ETA: 0s - loss: 0.2227\n",
      " stop traing due to low loss\n",
      "60000/60000 [==============================] - 7s 116us/sample - loss: 0.2228\n",
      "Epoch 4/5\n",
      "59680/60000 [============================>.] - ETA: 0s - loss: 0.2116\n",
      " stop traing due to low loss\n",
      "60000/60000 [==============================] - 7s 116us/sample - loss: 0.2118\n",
      "Epoch 5/5\n",
      "59904/60000 [============================>.] - ETA: 0s - loss: 0.2031\n",
      " stop traing due to low loss\n",
      "60000/60000 [==============================] - 7s 116us/sample - loss: 0.2030\n"
     ]
    },
    {
     "data": {
      "text/plain": [
       "<tensorflow.python.keras.callbacks.History at 0x1e4d1ab6308>"
      ]
     },
     "execution_count": 56,
     "metadata": {},
     "output_type": "execute_result"
    }
   ],
   "source": [
    "model.fit(X_train,X_label,epochs=5,callbacks=[callbacks])"
   ]
  },
  {
   "cell_type": "code",
   "execution_count": 57,
   "metadata": {},
   "outputs": [
    {
     "name": "stdout",
     "output_type": "stream",
     "text": [
      "10000/10000 [==============================] - 1s 54us/sample - loss: 0.3562\n"
     ]
    },
    {
     "data": {
      "text/plain": [
       "0.3562196187019348"
      ]
     },
     "execution_count": 57,
     "metadata": {},
     "output_type": "execute_result"
    }
   ],
   "source": [
    "model.evaluate(y_train,y_label)"
   ]
  },
  {
   "cell_type": "code",
   "execution_count": 61,
   "metadata": {},
   "outputs": [],
   "source": [
    "probability_model = tf.keras.Sequential([model, \n",
    "                                         tf.keras.layers.Softmax()])"
   ]
  },
  {
   "cell_type": "code",
   "execution_count": 62,
   "metadata": {},
   "outputs": [],
   "source": [
    "predictions = probability_model.predict(y_train)"
   ]
  },
  {
   "cell_type": "code",
   "execution_count": 63,
   "metadata": {},
   "outputs": [
    {
     "data": {
      "text/plain": [
       "array([0.08554705, 0.08554705, 0.08554705, 0.08554705, 0.08554705,\n",
       "       0.08554734, 0.08554705, 0.08702047, 0.08554705, 0.22860284],\n",
       "      dtype=float32)"
      ]
     },
     "execution_count": 63,
     "metadata": {},
     "output_type": "execute_result"
    }
   ],
   "source": [
    "predictions[0]"
   ]
  },
  {
   "cell_type": "code",
   "execution_count": 70,
   "metadata": {},
   "outputs": [
    {
     "data": {
      "text/plain": [
       "4"
      ]
     },
     "execution_count": 70,
     "metadata": {},
     "output_type": "execute_result"
    }
   ],
   "source": [
    "np.argmax(predictions[50])"
   ]
  },
  {
   "cell_type": "code",
   "execution_count": 71,
   "metadata": {},
   "outputs": [
    {
     "data": {
      "text/plain": [
       "4"
      ]
     },
     "execution_count": 71,
     "metadata": {},
     "output_type": "execute_result"
    }
   ],
   "source": [
    "y_label[50] # here we can see model is predicting correctly"
   ]
  },
  {
   "cell_type": "code",
   "execution_count": null,
   "metadata": {},
   "outputs": [],
   "source": []
  }
 ],
 "metadata": {
  "kernelspec": {
   "display_name": "Python 3",
   "language": "python",
   "name": "python3"
  },
  "language_info": {
   "codemirror_mode": {
    "name": "ipython",
    "version": 3
   },
   "file_extension": ".py",
   "mimetype": "text/x-python",
   "name": "python",
   "nbconvert_exporter": "python",
   "pygments_lexer": "ipython3",
   "version": "3.7.6"
  }
 },
 "nbformat": 4,
 "nbformat_minor": 4
}
